{
  "nbformat": 4,
  "nbformat_minor": 0,
  "metadata": {
    "colab": {
      "provenance": [],
      "authorship_tag": "ABX9TyOMVJN+VbHzNIzqdf05jEIF",
      "include_colab_link": true
    },
    "kernelspec": {
      "name": "python3",
      "display_name": "Python 3"
    },
    "language_info": {
      "name": "python"
    }
  },
  "cells": [
    {
      "cell_type": "markdown",
      "metadata": {
        "id": "view-in-github",
        "colab_type": "text"
      },
      "source": [
        "<a href=\"https://colab.research.google.com/github/Singhrahul2511/DSA_with_Python/blob/main/Array(pyth_Ds).ipynb\" target=\"_parent\"><img src=\"https://colab.research.google.com/assets/colab-badge.svg\" alt=\"Open In Colab\"/></a>"
      ]
    },
    {
      "cell_type": "markdown",
      "source": [
        "# 1. Let us say your expense for every month are listed below,\n",
        "# \t1. January -  2200\n",
        "#  \t2. February - 2350\n",
        "#     3. March - 2600\n",
        "#     4. April - 2130\n",
        "#     5. May - 2190\n",
        "#\n",
        "# Create a list to store these monthly expenses and using that find out,\n",
        "#\n",
        "# 1. In Feb, how many dollars you spent extra compare to January?\n",
        "# 2. Find out your total expense in first quarter (first three months) of the year.\n",
        "# 3. Find out if you spent exactly 2000 dollars in any month\n",
        "# 4. June month just finished and your expense is 1980 dollar. Add this item to our monthly expense list\n",
        "# 5. You returned an item that you bought in a month of April and\n",
        "# got a refund of 200$. Make a correction to your monthly expense list\n",
        "# based on this"
      ],
      "metadata": {
        "id": "6RGAWODbOnKC"
      }
    },
    {
      "cell_type": "code",
      "execution_count": 8,
      "metadata": {
        "colab": {
          "base_uri": "https://localhost:8080/"
        },
        "id": "FDANW9K0OhS8",
        "outputId": "f501a590-7983-4744-eb7f-4d811ae3b887"
      },
      "outputs": [
        {
          "output_type": "stream",
          "name": "stdout",
          "text": [
            "[200, 2350, 2600, 2130]\n"
          ]
        }
      ],
      "source": [
        "exp =[200,2350,2600,2130,]\n",
        "print(exp)"
      ]
    },
    {
      "cell_type": "code",
      "source": [
        "print(f\"in feb extra expenses compare to jan is: {exp[1]-exp[0]}\")"
      ],
      "metadata": {
        "colab": {
          "base_uri": "https://localhost:8080/"
        },
        "id": "Z8zPwF1OO6RU",
        "outputId": "c082aba8-b760-40b4-bbbb-cb9e0dacc6b4"
      },
      "execution_count": 9,
      "outputs": [
        {
          "output_type": "stream",
          "name": "stdout",
          "text": [
            "in feb extra expenses compare to jan is: 2150\n"
          ]
        }
      ]
    },
    {
      "cell_type": "code",
      "source": [
        "print(f\"total expenses in first quarter is: {exp[0]+exp[1]+exp[2]}\")"
      ],
      "metadata": {
        "id": "9J-ZmN1XPUru",
        "colab": {
          "base_uri": "https://localhost:8080/"
        },
        "outputId": "926a6b8a-b86c-4468-95be-a1b1472087f9"
      },
      "execution_count": 10,
      "outputs": [
        {
          "output_type": "stream",
          "name": "stdout",
          "text": [
            "total expenses in first quarter is: 5150\n"
          ]
        }
      ]
    },
    {
      "cell_type": "code",
      "source": [
        "print(f\"Did i spent 2000 in any month: {2000 in exp}\")"
      ],
      "metadata": {
        "colab": {
          "base_uri": "https://localhost:8080/"
        },
        "id": "NamHiaMsQzMw",
        "outputId": "f95f830e-02ba-40bf-cbcc-0fb8fbfcac66"
      },
      "execution_count": 11,
      "outputs": [
        {
          "output_type": "stream",
          "name": "stdout",
          "text": [
            "Did i spent 2000 in any month: False\n"
          ]
        }
      ]
    },
    {
      "cell_type": "code",
      "source": [
        "exp.append(1980)\n",
        "print(exp)"
      ],
      "metadata": {
        "colab": {
          "base_uri": "https://localhost:8080/"
        },
        "id": "piCUBG-ARDL9",
        "outputId": "29bc67ed-fca3-475f-ef44-28fec21850ae"
      },
      "execution_count": 12,
      "outputs": [
        {
          "output_type": "stream",
          "name": "stdout",
          "text": [
            "[200, 2350, 2600, 2130, 1980]\n"
          ]
        }
      ]
    },
    {
      "cell_type": "code",
      "source": [
        "print(f\"corrected expenses of april is {exp[3]-200}\")"
      ],
      "metadata": {
        "colab": {
          "base_uri": "https://localhost:8080/"
        },
        "id": "vW-Sd51uRXbD",
        "outputId": "1b689991-dcf0-4a39-e7e4-29a644b33640"
      },
      "execution_count": 14,
      "outputs": [
        {
          "output_type": "stream",
          "name": "stdout",
          "text": [
            "corrected expenses of april is 1930\n"
          ]
        }
      ]
    },
    {
      "cell_type": "markdown",
      "source": [
        "2.\n",
        "\n",
        "\n",
        "You have a list of your favourite marvel super heros.\n",
        "heros=['spider man','thor','hulk','iron man','captain america']\n",
        "Using this find out,\n",
        "\n",
        "1. Length of the list\n",
        "2. Add 'black panther' at the end of this list\n",
        "3. You realize that you need to add 'black panther' after 'hulk',\n",
        "   so remove it from the list first and then add it after 'hulk'\n",
        "4. Now you don't like thor and hulk because they get angry easily :)\n",
        "   So you want to remove thor and hulk from list and replace them with doctor strange (because he is cool).\n",
        "   Do that with one line of code.\n",
        "5. Sort the heros list in alphabetical order (Hint. Use dir() functions to list down all functions available in list)\n"
      ],
      "metadata": {
        "id": "fE_eMhX9SBT4"
      }
    },
    {
      "cell_type": "code",
      "source": [
        "heros = ['spider man','thor','hulk','iron man','captain america']\n",
        "print(heros)\n",
        "\n",
        "#length of list\n",
        "print(f\"length of list is : {len(heros)}\")"
      ],
      "metadata": {
        "colab": {
          "base_uri": "https://localhost:8080/"
        },
        "id": "tnSzaPgWRsgd",
        "outputId": "eaeb006a-baea-4538-a4ee-0cd2e8f62864"
      },
      "execution_count": 23,
      "outputs": [
        {
          "output_type": "stream",
          "name": "stdout",
          "text": [
            "['spider man', 'thor', 'hulk', 'iron man', 'captain america']\n",
            "length of list is : 5\n"
          ]
        }
      ]
    },
    {
      "cell_type": "code",
      "source": [
        "#add black_panther at the end of list\n",
        "heros.append('black panther')\n",
        "print(heros)\n",
        "#remove black panther from list\n",
        "heros.remove('black panther')\n",
        "print(heros)"
      ],
      "metadata": {
        "colab": {
          "base_uri": "https://localhost:8080/"
        },
        "id": "ID9CvocqScWJ",
        "outputId": "7f9a7353-8191-4153-ba78-7db07eb433e4"
      },
      "execution_count": 24,
      "outputs": [
        {
          "output_type": "stream",
          "name": "stdout",
          "text": [
            "['spider man', 'thor', 'hulk', 'iron man', 'captain america', 'black panther']\n",
            "['spider man', 'thor', 'hulk', 'iron man', 'captain america']\n"
          ]
        }
      ]
    },
    {
      "cell_type": "code",
      "source": [
        "#add black panther after 'hulk'\n",
        "heros.insert(3,'black panther')\n",
        "print(heros)"
      ],
      "metadata": {
        "colab": {
          "base_uri": "https://localhost:8080/"
        },
        "id": "s2qmUU5SS4xk",
        "outputId": "b6a1b501-d585-4889-dfec-f321ea50030b"
      },
      "execution_count": 25,
      "outputs": [
        {
          "output_type": "stream",
          "name": "stdout",
          "text": [
            "['spider man', 'thor', 'hulk', 'black panther', 'iron man', 'captain america']\n"
          ]
        }
      ]
    },
    {
      "cell_type": "code",
      "source": [
        "#remove thor and hulk\n",
        "heros[1:3] = ['Doctor Strange']\n",
        "print(heros)"
      ],
      "metadata": {
        "colab": {
          "base_uri": "https://localhost:8080/"
        },
        "id": "BWfW86Y9Tir-",
        "outputId": "32b64b06-c2ca-45a2-ed1c-64aa5e4e6df3"
      },
      "execution_count": 26,
      "outputs": [
        {
          "output_type": "stream",
          "name": "stdout",
          "text": [
            "['spider man', 'Doctor Strange', 'black panther', 'iron man', 'captain america']\n"
          ]
        }
      ]
    },
    {
      "cell_type": "code",
      "source": [
        "#sort heroes list in alphabetical order\n",
        "\n",
        "heros.sort()\n",
        "print(heros)"
      ],
      "metadata": {
        "colab": {
          "base_uri": "https://localhost:8080/"
        },
        "id": "5x2qSvR3US8s",
        "outputId": "4ef8ff3e-6fe5-4179-f0db-c808259de491"
      },
      "execution_count": 27,
      "outputs": [
        {
          "output_type": "stream",
          "name": "stdout",
          "text": [
            "['Doctor Strange', 'black panther', 'captain america', 'iron man', 'spider man']\n"
          ]
        }
      ]
    },
    {
      "cell_type": "code",
      "source": [],
      "metadata": {
        "id": "NMkJU8GDU3Mb"
      },
      "execution_count": null,
      "outputs": []
    },
    {
      "cell_type": "markdown",
      "source": [
        "3.\n",
        "\n",
        "\n",
        "Create a list of all odd numbers between 1 and a max number. Max number is something you need to take from a user using input() function"
      ],
      "metadata": {
        "id": "z6OIk-_KVbM4"
      }
    },
    {
      "cell_type": "markdown",
      "source": [],
      "metadata": {
        "id": "-86zIb9VVi95"
      }
    },
    {
      "cell_type": "code",
      "source": [
        "max_num = int(input(\"Enter a max_num: \"))\n",
        "odd_num = []\n",
        "even_num = []\n",
        "odd_count = 0\n",
        "even_count = 0\n",
        "for i in range(1,max_num+1):\n",
        "  if(i%2!=0):\n",
        "    odd_num.append(i)\n",
        "    odd_count = odd_count+1\n",
        "    print(odd_num)\n",
        "\n",
        "  else:\n",
        "    even_num.append(i)\n",
        "    even_count = even_count+1\n",
        "    print(even_num)\n",
        "\n",
        "print(f\"odd count is:{odd_count}\")\n",
        "print(f\"even_count is: {even_count}\")"
      ],
      "metadata": {
        "colab": {
          "base_uri": "https://localhost:8080/"
        },
        "id": "bCshWrVCVdrl",
        "outputId": "5d6f1931-8974-4c0b-acef-e5fe7740ae11"
      },
      "execution_count": 38,
      "outputs": [
        {
          "output_type": "stream",
          "name": "stdout",
          "text": [
            "Enter a max_num: 4\n",
            "[1]\n",
            "[2]\n",
            "[1, 3]\n",
            "[2, 4]\n",
            "odd count is:2\n",
            "even_count is: 2\n"
          ]
        }
      ]
    },
    {
      "cell_type": "code",
      "source": [
        "max_num = int(input(\"Enter a number: \"))\n",
        "odd_num =[]\n",
        "odd_count = 0\n",
        "even_num=[]\n",
        "even_count =0\n",
        "prime_num = []\n",
        "prime_count = 0\n",
        "\n",
        "def is_prime(n):\n",
        "    return n > 1 and all(n % i != 0 for i in range(2, int(n**0.5) + 1))\n",
        "\n",
        "for i in range(1,max_num+1):\n",
        "  if(i%2 !=0):\n",
        "    odd_num.append(i)\n",
        "    odd_count +=1\n",
        "    print(odd_num)\n",
        "\n",
        "  else:\n",
        "    even_num.append(i)\n",
        "    even_count +=1\n",
        "\n",
        "  if is_prime(i):\n",
        "    prime_num.append(i)\n",
        "    prime_count +=1\n",
        "    print(prime_num)\n",
        "print(f\"Total number of of odd number is: {odd_count}\")\n",
        "print(f\"Total number of of odd number is: {even_count}\")\n",
        "print(f\"Total no of prime: {prime_num}\")\n",
        "print(f\"Total no of prime: {prime_count}\")"
      ],
      "metadata": {
        "colab": {
          "base_uri": "https://localhost:8080/"
        },
        "id": "-f6H97pAWZzs",
        "outputId": "8d6f62f8-fc35-472c-f67c-9c6e065cd22e"
      },
      "execution_count": 3,
      "outputs": [
        {
          "output_type": "stream",
          "name": "stdout",
          "text": [
            "Enter a number: 12\n",
            "[1]\n",
            "[2]\n",
            "[1, 3]\n",
            "[2, 3]\n",
            "[1, 3, 5]\n",
            "[2, 3, 5]\n",
            "[1, 3, 5, 7]\n",
            "[2, 3, 5, 7]\n",
            "[1, 3, 5, 7, 9]\n",
            "[1, 3, 5, 7, 9, 11]\n",
            "[2, 3, 5, 7, 11]\n",
            "Total number of of odd number is: 6\n",
            "Total number of of odd number is: 6\n",
            "Total no of prime: [2, 3, 5, 7, 11]\n",
            "Total no of prime: 5\n"
          ]
        }
      ]
    },
    {
      "cell_type": "code",
      "source": [
        "# Define a Node class for each song in the playlist\n",
        "class Node:\n",
        "    def __init__(self, song):\n",
        "        self.song = song  # The song name or data\n",
        "        self.next = None  # Pointer to the next song\n",
        "        self.prev = None  # Pointer to the previous song\n",
        "\n",
        "# Define a Doubly Linked List class for the playlist\n",
        "class MusicPlaylist:\n",
        "    def __init__(self):\n",
        "        self.head = None  # Start of the playlist\n",
        "        self.tail = None  # End of the playlist\n",
        "\n",
        "    # Add a song to the playlist (end of the list)\n",
        "    def add_song(self, song):\n",
        "        new_node = Node(song)\n",
        "        if self.head is None:\n",
        "            self.head = self.tail = new_node\n",
        "        else:\n",
        "            self.tail.next = new_node\n",
        "            new_node.prev = self.tail\n",
        "            self.tail = new_node\n",
        "        print(f\"'{song}' added to the playlist.\")\n",
        "\n",
        "    # Play the playlist starting from the head\n",
        "    def play_songs(self):\n",
        "        current = self.head\n",
        "        while current:\n",
        "            print(f\"Playing: {current.song}\")\n",
        "            current = current.next\n",
        "\n",
        "    # Go to the next song\n",
        "    def next_song(self, current_song):\n",
        "        current = self.head\n",
        "        while current:\n",
        "            if current.song == current_song and current.next:\n",
        "                print(f\"Next song: {current.next.song}\")\n",
        "                return current.next.song\n",
        "            current = current.next\n",
        "        print(\"No next song.\")\n",
        "        return None\n",
        "\n",
        "    # Go to the previous song\n",
        "    def prev_song(self, current_song):\n",
        "        current = self.head\n",
        "        while current:\n",
        "            if current.song == current_song and current.prev:\n",
        "                print(f\"Previous song: {current.prev.song}\")\n",
        "                return current.prev.song\n",
        "            current = current.next\n",
        "        print(\"No previous song.\")\n",
        "        return None\n",
        "\n",
        "# Example usage:\n",
        "playlist = MusicPlaylist()\n",
        "playlist.add_song(\"Song 1\")\n",
        "playlist.add_song(\"Song 2\")\n",
        "playlist.add_song(\"Song 3\")\n",
        "playlist.add_song(\"Song 4\")\n",
        "\n",
        "print(\"\\nPlaylist:\")\n",
        "playlist.play_songs()\n",
        "\n",
        "print(\"\\nNavigating the playlist:\")\n",
        "playlist.next_song(\"Song 2\")\n",
        "playlist.prev_song(\"Song 3\")\n"
      ],
      "metadata": {
        "colab": {
          "base_uri": "https://localhost:8080/",
          "height": 278
        },
        "id": "mn5QQe5Oe1ZT",
        "outputId": "41195636-1c5b-4fee-a341-af89370a82a7"
      },
      "execution_count": 4,
      "outputs": [
        {
          "output_type": "stream",
          "name": "stdout",
          "text": [
            "'Song 1' added to the playlist.\n",
            "'Song 2' added to the playlist.\n",
            "'Song 3' added to the playlist.\n",
            "'Song 4' added to the playlist.\n",
            "\n",
            "Playlist:\n",
            "Playing: Song 1\n",
            "Playing: Song 2\n",
            "Playing: Song 3\n",
            "Playing: Song 4\n",
            "\n",
            "Navigating the playlist:\n",
            "Next song: Song 3\n",
            "Previous song: Song 2\n"
          ]
        },
        {
          "output_type": "execute_result",
          "data": {
            "text/plain": [
              "'Song 2'"
            ],
            "application/vnd.google.colaboratory.intrinsic+json": {
              "type": "string"
            }
          },
          "metadata": {},
          "execution_count": 4
        }
      ]
    },
    {
      "cell_type": "code",
      "source": [],
      "metadata": {
        "id": "-xVznro1-l87"
      },
      "execution_count": null,
      "outputs": []
    }
  ]
}